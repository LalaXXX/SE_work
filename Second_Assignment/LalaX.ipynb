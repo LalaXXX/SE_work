{
 "cells": [
  {
   "cell_type": "code",
   "execution_count": 1,
   "metadata": {},
   "outputs": [
    {
     "name": "stdout",
     "output_type": "stream",
     "text": [
      "Hello World!\n"
     ]
    }
   ],
   "source": [
    "print(\"Hello World!\")"
   ]
  },
  {
   "cell_type": "markdown",
   "metadata": {},
   "source": [
    "## MaxSubArray"
   ]
  },
  {
   "cell_type": "code",
   "execution_count": 18,
   "metadata": {},
   "outputs": [
    {
     "name": "stdout",
     "output_type": "stream",
     "text": [
      "-2 1 -3 4 -1 2 1 -5 4\n"
     ]
    },
    {
     "data": {
      "text/plain": [
       "6"
      ]
     },
     "execution_count": 18,
     "metadata": {},
     "output_type": "execute_result"
    }
   ],
   "source": [
    "def maxSubArray(nums):\n",
    "    # 动态规划，原地修改数组\n",
    "    maxnum = nums[0]\n",
    "    for i in range(1,len(nums)):\n",
    "        if nums[i - 1] > 0:\n",
    "            nums[i] += nums[i - 1]\n",
    "        maxnum = max(maxnum,nums[i])\n",
    "    return maxnum \n",
    "arr = input(\"\")\n",
    "num = [int(n) for n in arr.split()]    \n",
    "maxSubArray(num)\n",
    "#-2,1,-3,4,-1,2,1,-5,4"
   ]
  },
  {
   "cell_type": "code",
   "execution_count": 17,
   "metadata": {},
   "outputs": [
    {
     "name": "stderr",
     "output_type": "stream",
     "text": [
      ".......\n",
      "----------------------------------------------------------------------\n",
      "Ran 7 tests in 0.012s\n",
      "\n",
      "OK\n"
     ]
    }
   ],
   "source": [
    "import unittest\n",
    "class TestClass:\n",
    "    def maxSubArray(nums):\n",
    "    # 动态规划，原地修改数组\n",
    "        maxnum = nums[0]\n",
    "        for i in range(1,len(nums)):\n",
    "            if nums[i - 1] > 0:\n",
    "                nums[i] += nums[i - 1]\n",
    "            maxnum = max(maxnum,nums[i])\n",
    "        return maxnum \n",
    "\n",
    "class TestDemo(unittest.TestCase):\n",
    "    def setUp(self):\n",
    "        pass\n",
    "    def tearDown(self):\n",
    "        pass\n",
    "    def test1(self):\n",
    "        self.assertEqual(TestClass.maxSubArray([-2,1,-3,4,-1,2,1,-5,4]), 6, \"test 1 fail\")\n",
    "    def test2(self):   \n",
    "        self.assertEqual(TestClass.maxSubArray([-2,11,-4,13,-5,-2]), 20, \"test 2 fail\")\n",
    "    def test3(self):   \n",
    "        self.assertEqual(TestClass.maxSubArray([-2,-1,0]), 0, \"test 3 fail\")\n",
    "    def tes4(self):   \n",
    "        self.assertEqual(TestClass.maxSubArray([0,1,2]), 3, \"test 4 fail\")\n",
    "    def test5(self):   \n",
    "        self.assertEqual(TestClass.maxSubArray([-1,-1,-1]), -1, \"test 5 fail\")\n",
    "    def test6(self):   \n",
    "        self.assertEqual(TestClass.maxSubArray([1,1,1]), 3, \"test 6 fail\")\n",
    "    def test7(self):   \n",
    "        self.assertEqual(TestClass.maxSubArray([1,2,3]), 6, \"test 7 fail\")\n",
    "    def test8(self):   \n",
    "        self.assertEqual(TestClass.maxSubArray([-3,-2,-1]), -1, \"test 8 fail\")\n",
    "        \n",
    "if __name__ == \"__main__\":\n",
    "    unittest.main(argv=['first-arg-is-ignored'], exit=False)"
   ]
  },
  {
   "cell_type": "markdown",
   "metadata": {},
   "source": [
    "## Demo"
   ]
  },
  {
   "cell_type": "code",
   "execution_count": null,
   "metadata": {},
   "outputs": [],
   "source": [
    "import unittest\n",
    "class TestClass:\n",
    "    def sum(x, y):\n",
    "        return x + y\n",
    "\n",
    "    def sub(x, y):\n",
    "        return x - y\n",
    "\n",
    "class TestDemo(unittest.TestCase):\n",
    "    def setUp(self):\n",
    "        pass\n",
    "\n",
    "    def tearDown(self):\n",
    "        pass\n",
    "\n",
    "    def testsum(self):\n",
    "        self.assertEqual(TestClass.sum(1, 2), 3, \"test sum fail\")\n",
    "\n",
    "    def testsub(self):\n",
    "        self.assertEqual(TestClass.sub(2, 1), 1, \"test sub fail\")\n",
    "\n",
    "if __name__ == \"__main__\":\n",
    "    unittest.main(argv=['first-arg-is-ignored'], exit=False)"
   ]
  },
  {
   "cell_type": "code",
   "execution_count": null,
   "metadata": {
    "collapsed": true
   },
   "outputs": [],
   "source": []
  }
 ],
 "metadata": {
  "kernelspec": {
   "display_name": "Python 3",
   "language": "python",
   "name": "python3"
  },
  "language_info": {
   "codemirror_mode": {
    "name": "ipython",
    "version": 3
   },
   "file_extension": ".py",
   "mimetype": "text/x-python",
   "name": "python",
   "nbconvert_exporter": "python",
   "pygments_lexer": "ipython3",
   "version": "3.6.3"
  }
 },
 "nbformat": 4,
 "nbformat_minor": 2
}
